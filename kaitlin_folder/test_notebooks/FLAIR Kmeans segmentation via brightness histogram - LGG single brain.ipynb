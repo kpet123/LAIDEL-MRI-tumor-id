{
 "cells": [
  {
   "cell_type": "markdown",
   "metadata": {},
   "source": [
    "In this file, will explore how to find the \"brightness histogram\" for each type of MRI. We are looking for clear humps that can make up a decent GMM model"
   ]
  },
  {
   "cell_type": "code",
   "execution_count": 1,
   "metadata": {},
   "outputs": [],
   "source": [
    "import matplotlib.pyplot as plt\n",
    "import numpy as np\n",
    "from dipy.io.image import load_nifti\n",
    "import pandas as pd\n",
    "import sklearn.cluster"
   ]
  },
  {
   "cell_type": "markdown",
   "metadata": {},
   "source": [
    "# Load data"
   ]
  },
  {
   "cell_type": "code",
   "execution_count": 2,
   "metadata": {},
   "outputs": [],
   "source": [
    "sample_flair_path = \"../../lib/BraTS_2018/LGG/Brats18_2013_0_1/Brats18_2013_0_1_flair.nii\"\n",
    "sample_seg_path = \"../../lib/BraTS_2018/LGG/Brats18_2013_0_1/Brats18_2013_0_1_seg.nii\"\n",
    "sample_T1_path = \"../../lib/BraTS_2018/LGG/Brats18_2013_0_1/Brats18_2013_0_1_t1.nii\"\n",
    "sample_T1g_path = \"../../lib/BraTS_2018/LGG/Brats18_2013_0_1/Brats18_2013_0_1_t1ce.nii\"\n",
    "sample_T2_path = \"../../lib/BraTS_2018/LGG/Brats18_2013_0_1/Brats18_2013_0_1_t2.nii\""
   ]
  },
  {
   "cell_type": "code",
   "execution_count": 3,
   "metadata": {},
   "outputs": [],
   "source": [
    "data_flair, affine, im = load_nifti(sample_flair_path, return_img=True)"
   ]
  },
  {
   "cell_type": "code",
   "execution_count": 4,
   "metadata": {},
   "outputs": [],
   "source": [
    "#FOR NOW, CAST AS ARRAY OF INTS (PROBABLY WANT FLOAT32 EVENTUALLY)\n",
    "data_flair=data_flair.astype(np.float32)\n",
    "#normalize\n",
    "data_flair=data_flair/np.max(data_flair)\n",
    "#take log\n",
    "data_flair_log =np.exp(data_flair+1e-6)"
   ]
  },
  {
   "cell_type": "code",
   "execution_count": 5,
   "metadata": {},
   "outputs": [],
   "source": [
    "data_seg, affine, im = load_nifti(sample_seg_path, return_img=True)\n",
    "data_seg=data_seg.astype(np.int)\n"
   ]
  },
  {
   "cell_type": "markdown",
   "metadata": {},
   "source": [
    "# FLAIR histogram\n",
    "Want 4 humps: background, grey matter, white matter, tumor"
   ]
  },
  {
   "cell_type": "code",
   "execution_count": 6,
   "metadata": {},
   "outputs": [
    {
     "data": {
      "image/png": "[encoded data removed]",
      "text/plain": [
       "<Figure size 432x288 with 1 Axes>"
      ]
     },
     "metadata": {
      "needs_background": "light"
     },
     "output_type": "display_data"
    }
   ],
   "source": [
    "flair_flat = data_flair_log.flatten()\n",
    "plt.figure()\n",
    "plt.hist(flair_flat, bins=50, log=True)\n",
    "plt.show()"
   ]
  },
  {
   "cell_type": "code",
   "execution_count": 7,
   "metadata": {},
   "outputs": [],
   "source": [
    "flair_2D = flair_flat.reshape(len(flair_flat), 1) #kmeans needs 2d (vertical) matrix where each row is a datapoint\n",
    "flair_kmeans = sklearn.cluster.KMeans(n_clusters=6, random_state=0).fit_predict(flair_2D)"
   ]
  },
  {
   "cell_type": "code",
   "execution_count": 67,
   "metadata": {},
   "outputs": [
    {
     "data": {
      "image/png": "[encoded data removed]",
      "text/plain": [
       "<Figure size 720x360 with 3 Axes>"
      ]
     },
     "metadata": {
      "needs_background": "light"
     },
     "output_type": "display_data"
    }
   ],
   "source": [
    "flair_kmeans_brain = flair_kmeans.reshape(240, 240, 155)\n",
    "plt.figure(figsize=(10,5))\n",
    "\n",
    "plt.subplot(1,3,1).set_axis_off()\n",
    "plt.title(\"Original FLAIR image\")\n",
    "plt.imshow(data_flair[120,:,:].T, cmap=\"gray\", origin='lower')\n",
    "\n",
    "plt.subplot(1,3,2).set_axis_off()\n",
    "plt.title(\"Segmented flair image\")\n",
    "plt.imshow(flair_kmeans_brain[120,:,:].T,  origin='lower')\n",
    "\n",
    "plt.subplot(1,3,3).set_axis_off()\n",
    "plt.title(\"Location of Tumor\")\n",
    "plt.imshow(flair_kmeans_brain[120,:,:].T, origin='lower')\n",
    "plt.imshow(data_seg[120,:,:].T, alpha=0.8, cmap=\"gray\", origin='lower')\n",
    "plt.show()"
   ]
  },
  {
   "cell_type": "code",
   "execution_count": 9,
   "metadata": {},
   "outputs": [
    {
     "data": {
      "text/plain": [
       "array([0, 1, 2, 4])"
      ]
     },
     "execution_count": 9,
     "metadata": {},
     "output_type": "execute_result"
    }
   ],
   "source": [
    "np.unique(data_seg.flatten())"
   ]
  },
  {
   "cell_type": "markdown",
   "metadata": {},
   "source": [
    "# Test accuracy of FLAIR segmentation\n",
    "-not bad!"
   ]
  },
  {
   "cell_type": "code",
   "execution_count": 10,
   "metadata": {},
   "outputs": [
    {
     "data": {
      "text/plain": [
       "array([0, 1, 2, 3, 4, 5], dtype=int32)"
      ]
     },
     "execution_count": 10,
     "metadata": {},
     "output_type": "execute_result"
    }
   ],
   "source": [
    "np.unique(flair_kmeans)"
   ]
  },
  {
   "cell_type": "markdown",
   "metadata": {},
   "source": [
    "Since tumor is brightest spot, likely has value 3"
   ]
  },
  {
   "cell_type": "markdown",
   "metadata": {},
   "source": [
    "True tumor coordinates"
   ]
  },
  {
   "cell_type": "code",
   "execution_count": 49,
   "metadata": {},
   "outputs": [],
   "source": [
    "y_coors = np.argwhere(data_seg.flatten()!=0)"
   ]
  },
  {
   "cell_type": "code",
   "execution_count": 50,
   "metadata": {},
   "outputs": [
    {
     "data": {
      "text/plain": [
       "49924"
      ]
     },
     "execution_count": 50,
     "metadata": {},
     "output_type": "execute_result"
    }
   ],
   "source": [
    "tumor_size=len(y_coors)\n",
    "tumor_size"
   ]
  },
  {
   "cell_type": "markdown",
   "metadata": {},
   "source": [
    "Predicted tumor coordinates - not brightest spot"
   ]
  },
  {
   "cell_type": "code",
   "execution_count": 59,
   "metadata": {},
   "outputs": [],
   "source": [
    "flair_yhat_coors = np.argwhere(flair_kmeans ==4)"
   ]
  },
  {
   "cell_type": "markdown",
   "metadata": {},
   "source": [
    "# True positive"
   ]
  },
  {
   "cell_type": "code",
   "execution_count": 60,
   "metadata": {},
   "outputs": [
    {
     "data": {
      "text/plain": [
       "20958"
      ]
     },
     "execution_count": 60,
     "metadata": {},
     "output_type": "execute_result"
    }
   ],
   "source": [
    "correct_id_tumor = np.intersect1d(y_coors, flair_yhat_coors, assume_unique=True)\n",
    "len(correct_id_tumor)"
   ]
  },
  {
   "cell_type": "code",
   "execution_count": 61,
   "metadata": {
    "scrolled": true
   },
   "outputs": [
    {
     "data": {
      "text/plain": [
       "0.4197980931015143"
      ]
     },
     "execution_count": 61,
     "metadata": {},
     "output_type": "execute_result"
    }
   ],
   "source": [
    "percent_tumor_correct = len(correct_id_tumor)/tumor_size\n",
    "percent_tumor_correct"
   ]
  },
  {
   "cell_type": "markdown",
   "metadata": {},
   "source": [
    "### False positive"
   ]
  },
  {
   "cell_type": "code",
   "execution_count": 62,
   "metadata": {},
   "outputs": [
    {
     "data": {
      "text/plain": [
       "21580"
      ]
     },
     "execution_count": 62,
     "metadata": {},
     "output_type": "execute_result"
    }
   ],
   "source": [
    "false_positive_points = np.setdiff1d(flair_yhat_coors, y_coors, assume_unique=True)\n",
    "len(false_positive_points)"
   ]
  },
  {
   "cell_type": "code",
   "execution_count": 63,
   "metadata": {},
   "outputs": [
    {
     "data": {
      "text/plain": [
       "0.002417114695340502"
      ]
     },
     "execution_count": 63,
     "metadata": {},
     "output_type": "execute_result"
    }
   ],
   "source": [
    "false_positive = len(false_positive_points)/len(data_seg.flatten())\n",
    "false_positive"
   ]
  },
  {
   "cell_type": "markdown",
   "metadata": {},
   "source": [
    "### False Negative"
   ]
  },
  {
   "cell_type": "code",
   "execution_count": 64,
   "metadata": {},
   "outputs": [],
   "source": [
    "false_neg_points = np.setdiff1d(y_coors, flair_yhat_coors, assume_unique=True)"
   ]
  },
  {
   "cell_type": "code",
   "execution_count": 65,
   "metadata": {},
   "outputs": [
    {
     "data": {
      "text/plain": [
       "0.003244399641577061"
      ]
     },
     "execution_count": 65,
     "metadata": {},
     "output_type": "execute_result"
    }
   ],
   "source": [
    "false_neg = len(false_neg_points)/len(data_seg.flatten())\n",
    "false_neg"
   ]
  },
  {
   "cell_type": "markdown",
   "metadata": {},
   "source": [
    "### True negative"
   ]
  },
  {
   "cell_type": "code",
   "execution_count": 66,
   "metadata": {},
   "outputs": [
    {
     "data": {
      "text/plain": [
       "0.9919910394265233"
      ]
     },
     "execution_count": 66,
     "metadata": {},
     "output_type": "execute_result"
    }
   ],
   "source": [
    "true_negative=1-(tumor_size+len(false_positive_points))/len(data_seg.flatten())\n",
    "true_negative"
   ]
  },
  {
   "cell_type": "code",
   "execution_count": null,
   "metadata": {},
   "outputs": [],
   "source": []
  },
  {
   "cell_type": "code",
   "execution_count": null,
   "metadata": {},
   "outputs": [],
   "source": []
  },
  {
   "cell_type": "markdown",
   "metadata": {},
   "source": [
    "### Total misidentification"
   ]
  },
  {
   "cell_type": "code",
   "execution_count": 21,
   "metadata": {},
   "outputs": [],
   "source": [
    "total_incorrect_points = np.concatenate((false_neg_points, false_positive_points))"
   ]
  },
  {
   "cell_type": "code",
   "execution_count": null,
   "metadata": {},
   "outputs": [],
   "source": []
  },
  {
   "cell_type": "code",
   "execution_count": 22,
   "metadata": {},
   "outputs": [
    {
     "data": {
      "text/plain": [
       "0.013727374551971327"
      ]
     },
     "execution_count": 22,
     "metadata": {},
     "output_type": "execute_result"
    }
   ],
   "source": [
    "total_error = len(total_incorrect_points)/len(data_seg.flatten())\n",
    "total_error"
   ]
  },
  {
   "cell_type": "code",
   "execution_count": null,
   "metadata": {},
   "outputs": [],
   "source": []
  }
 ],
 "metadata": {
  "kernelspec": {
   "display_name": "Python 3",
   "language": "python",
   "name": "python3"
  },
  "language_info": {
   "codemirror_mode": {
    "name": "ipython",
    "version": 3
   },
   "file_extension": ".py",
   "mimetype": "text/x-python",
   "name": "python",
   "nbconvert_exporter": "python",
   "pygments_lexer": "ipython3",
   "version": "3.7.3"
  }
 },
 "nbformat": 4,
 "nbformat_minor": 2
}
