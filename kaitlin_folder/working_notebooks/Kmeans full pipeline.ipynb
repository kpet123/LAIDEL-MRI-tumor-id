{
 "cells": [
  {
   "cell_type": "markdown",
   "metadata": {},
   "source": [
    "In this file, will explore how to find the \"brightness histogram\" for each type of MRI. We are looking for clear humps that can make up a decent GMM model"
   ]
  },
  {
   "cell_type": "code",
   "execution_count": 1,
   "metadata": {},
   "outputs": [],
   "source": [
    "import matplotlib.pyplot as plt\n",
    "import numpy as np\n",
    "from dipy.io.image import load_nifti\n",
    "import pandas as pd\n",
    "import sklearn.cluster"
   ]
  },
  {
   "cell_type": "markdown",
   "metadata": {},
   "source": [
    "# Load data"
   ]
  },
  {
   "cell_type": "code",
   "execution_count": 2,
   "metadata": {},
   "outputs": [],
   "source": [
    "sample_flair_path = \"../../lib/MICCAI_BraTS2020_TrainingData/BraTS20_Training_111/BraTS20_Training_111_flair.nii\"\n",
    "sample_seg_path = \"../../lib/MICCAI_BraTS2020_TrainingData/BraTS20_Training_111/BraTS20_Training_111_seg.nii\"\n"
   ]
  },
  {
   "cell_type": "code",
   "execution_count": 3,
   "metadata": {},
   "outputs": [],
   "source": [
    "data_flair, affine, im = load_nifti(sample_flair_path, return_img=True)"
   ]
  },
  {
   "cell_type": "code",
   "execution_count": 4,
   "metadata": {},
   "outputs": [],
   "source": [
    "#FOR NOW, CAST AS ARRAY OF INTS (PROBABLY WANT FLOAT32 EVENTUALLY)\n",
    "data_flair=data_flair.astype(np.int)"
   ]
  },
  {
   "cell_type": "code",
   "execution_count": 5,
   "metadata": {},
   "outputs": [],
   "source": [
    "data_seg, affine, im = load_nifti(sample_seg_path, return_img=True)\n",
    "data_seg=data_seg.astype(np.int)"
   ]
  },
  {
   "cell_type": "markdown",
   "metadata": {},
   "source": [
    "# FLAIR histogram\n",
    "Want 4 humps: background, grey matter, white matter, tumor\n",
    "\"Best\" results with 6 humps"
   ]
  },
  {
   "cell_type": "code",
   "execution_count": 6,
   "metadata": {},
   "outputs": [
    {
     "data": {
      "image/png": "[encoded data removed]",
      "text/plain": [
       "<Figure size 432x288 with 1 Axes>"
      ]
     },
     "metadata": {
      "needs_background": "light"
     },
     "output_type": "display_data"
    }
   ],
   "source": [
    "flair_flat = data_flair.flatten()\n",
    "plt.figure()\n",
    "plt.hist(flair_flat, bins=50, log=True)\n",
    "plt.show()"
   ]
  },
  {
   "cell_type": "markdown",
   "metadata": {},
   "source": [
    "### Do kmeans clustering"
   ]
  },
  {
   "cell_type": "code",
   "execution_count": 7,
   "metadata": {},
   "outputs": [],
   "source": [
    "flair_2D = flair_flat.reshape(len(flair_flat), 1) #kmeans needs 2d (vertical) matrix where each row is a datapoint\n",
    "clusters=4"
   ]
  },
  {
   "cell_type": "code",
   "execution_count": 8,
   "metadata": {},
   "outputs": [],
   "source": [
    "flair_kmeans = sklearn.cluster.KMeans(n_clusters=clusters, random_state=0).fit_predict(flair_2D)"
   ]
  },
  {
   "cell_type": "markdown",
   "metadata": {},
   "source": [
    "## Calc mean and variance of clusters"
   ]
  },
  {
   "cell_type": "code",
   "execution_count": 9,
   "metadata": {},
   "outputs": [],
   "source": [
    "def calc_mean_var(flair_2D, flair_kmeans, clusters):\n",
    "    kmeans_arr=np.zeros((clusters, 3))\n",
    "    for i in range(0, clusters):\n",
    "        section=flair_2D[flair_kmeans==i]\n",
    "        kmeans_arr[i]=np.array([i, np.mean(section), np.std(section)])\n",
    "    return kmeans_arr"
   ]
  },
  {
   "cell_type": "code",
   "execution_count": 10,
   "metadata": {},
   "outputs": [
    {
     "data": {
      "text/plain": [
       "array([[0.00000000e+00, 4.37035135e-01, 5.04311968e+00],\n",
       "       [1.00000000e+00, 1.58660741e+02, 2.49831276e+01],\n",
       "       [2.00000000e+00, 4.80696600e+02, 1.06495942e+02],\n",
       "       [3.00000000e+00, 2.30350238e+02, 3.13463931e+01]])"
      ]
     },
     "execution_count": 10,
     "metadata": {},
     "output_type": "execute_result"
    }
   ],
   "source": [
    "cluster_features = calc_mean_var(flair_2D, flair_kmeans, clusters)\n",
    "cluster_features\n"
   ]
  },
  {
   "cell_type": "markdown",
   "metadata": {},
   "source": [
    "### Which class has highest brightness?"
   ]
  },
  {
   "cell_type": "code",
   "execution_count": 11,
   "metadata": {},
   "outputs": [
    {
     "data": {
      "text/plain": [
       "2"
      ]
     },
     "execution_count": 11,
     "metadata": {},
     "output_type": "execute_result"
    }
   ],
   "source": [
    "tumor_label = np.argmax(cluster_features[:,1])\n",
    "tumor_label"
   ]
  },
  {
   "cell_type": "markdown",
   "metadata": {},
   "source": [
    "### See Mean calculation by hand"
   ]
  },
  {
   "cell_type": "code",
   "execution_count": 12,
   "metadata": {},
   "outputs": [
    {
     "data": {
      "text/plain": [
       "0.43703513513810227"
      ]
     },
     "execution_count": 12,
     "metadata": {},
     "output_type": "execute_result"
    }
   ],
   "source": [
    "#Average of Class 0\n",
    "np.mean(flair_2D[flair_kmeans==0])"
   ]
  },
  {
   "cell_type": "code",
   "execution_count": 13,
   "metadata": {},
   "outputs": [
    {
     "data": {
      "text/plain": [
       "158.66074133240147"
      ]
     },
     "execution_count": 13,
     "metadata": {},
     "output_type": "execute_result"
    }
   ],
   "source": [
    "#Average of Class 1\n",
    "np.mean(flair_2D[flair_kmeans==1])"
   ]
  },
  {
   "cell_type": "code",
   "execution_count": 14,
   "metadata": {},
   "outputs": [
    {
     "data": {
      "text/plain": [
       "480.6966002604527"
      ]
     },
     "execution_count": 14,
     "metadata": {},
     "output_type": "execute_result"
    }
   ],
   "source": [
    "#Average of Class 2\n",
    "np.mean(flair_2D[flair_kmeans==2])"
   ]
  },
  {
   "cell_type": "code",
   "execution_count": 15,
   "metadata": {},
   "outputs": [
    {
     "data": {
      "text/plain": [
       "230.35023787027367"
      ]
     },
     "execution_count": 15,
     "metadata": {},
     "output_type": "execute_result"
    }
   ],
   "source": [
    "#Average of Class 3\n",
    "np.mean(flair_2D[flair_kmeans==3])"
   ]
  },
  {
   "cell_type": "markdown",
   "metadata": {},
   "source": [
    "### Visualize kmeans"
   ]
  },
  {
   "cell_type": "code",
   "execution_count": 16,
   "metadata": {},
   "outputs": [
    {
     "data": {
      "image/png": "[encoded data removed]",
      "text/plain": [
       "<Figure size 720x360 with 3 Axes>"
      ]
     },
     "metadata": {
      "needs_background": "light"
     },
     "output_type": "display_data"
    }
   ],
   "source": [
    "flair_kmeans_brain = flair_kmeans.reshape(240, 240, 155)\n",
    "plt.figure(figsize=(10,5))\n",
    "\n",
    "plt.subplot(1,3,1).set_axis_off()\n",
    "plt.title(\"Original FLAIR image\")\n",
    "plt.imshow(data_flair[:,:,60].T, cmap=\"gray\", origin='lower')\n",
    "\n",
    "plt.subplot(1,3,2).set_axis_off()\n",
    "plt.title(\"Segmented flair image\")\n",
    "plt.imshow(flair_kmeans_brain[:,:,60].T,  origin='lower')\n",
    "\n",
    "plt.subplot(1,3,3).set_axis_off()\n",
    "plt.title(\"Location of Tumor\")\n",
    "plt.imshow(flair_kmeans_brain[:,:,60].T, origin='lower')\n",
    "plt.imshow(data_seg[:,:,60].T, alpha=0.8, cmap=\"gray\", origin='lower')\n",
    "plt.show()"
   ]
  },
  {
   "cell_type": "markdown",
   "metadata": {},
   "source": [
    "# Test accuracy of FLAIR segmentation\n",
    "-not bad!"
   ]
  },
  {
   "cell_type": "code",
   "execution_count": 17,
   "metadata": {},
   "outputs": [],
   "source": [
    "def evaluate_segmentation(flair_kmeans, data_seg, tumor_label):\n",
    "    #coordinates of predicted and actual tumor\n",
    "    y_coors = np.argwhere(data_seg.flatten()!=0)\n",
    "    flair_yhat_coors = np.argwhere(flair_kmeans ==tumor_label)\n",
    "    \n",
    "    #size of tumor and non-tumor (number of voxels)\n",
    "    tumor_size=len(y_coors)\n",
    "    non_tumor_size = len(data_seg.flatten())-tumor_size\n",
    "\n",
    "    #true positive\n",
    "    correct_id_tumor = np.intersect1d(y_coors, flair_yhat_coors, assume_unique=True)\n",
    "    percent_tumor_correct = len(correct_id_tumor)/tumor_size\n",
    "\n",
    "    #false positive\n",
    "    false_positive_points = np.setdiff1d(flair_yhat_coors, y_coors, assume_unique=True)\n",
    "    false_positive = len(false_positive_points)/non_tumor_size\n",
    "\n",
    "    #false negative\n",
    "    false_neg_points = np.setdiff1d(y_coors, flair_yhat_coors, assume_unique=True)\n",
    "    false_neg = len(false_neg_points)/tumor_size\n",
    "\n",
    "    \n",
    "    #true negative\n",
    "    true_negative=(len(data_seg.flatten())-(tumor_size+len(false_positive_points)))/non_tumor_size\n",
    "\n",
    "    #Total error (misidentification\n",
    "    total_incorrect_points = np.concatenate((false_neg_points, false_positive_points))\n",
    "    total_error = len(total_incorrect_points)/len(data_seg.flatten())\n",
    "    \n",
    "    print(\"True Positive: \", percent_tumor_correct)\n",
    "    print(\"False negative: \", false_neg)\n",
    "    print(\"True Negative: \", true_negative)\n",
    "    print(\"False Positive: \", false_positive)\n",
    "    \n",
    "    print(\"************\")\n",
    "    print(\"Total Error: \", total_error)"
   ]
  },
  {
   "cell_type": "code",
   "execution_count": 18,
   "metadata": {},
   "outputs": [
    {
     "name": "stdout",
     "output_type": "stream",
     "text": [
      "True Positive:  0.6503391629366434\n",
      "False negative:  0.34966083706335654\n",
      "True Negative:  0.9991103765614838\n",
      "False Positive:  0.0008896234385161477\n",
      "************\n",
      "Total Error:  0.0025827732974910396\n"
     ]
    }
   ],
   "source": [
    "evaluate_segmentation(flair_kmeans, data_seg, tumor_label)"
   ]
  },
  {
   "cell_type": "markdown",
   "metadata": {},
   "source": [
    "# Working out accuracy matrix \n",
    "Information reflected in function above"
   ]
  },
  {
   "cell_type": "markdown",
   "metadata": {},
   "source": [
    "### True tumor coordinates"
   ]
  },
  {
   "cell_type": "code",
   "execution_count": 19,
   "metadata": {},
   "outputs": [
    {
     "data": {
      "text/plain": [
       "array([[ 45, 138,  63],\n",
       "       [ 45, 139,  63],\n",
       "       [ 45, 140,  63],\n",
       "       ...,\n",
       "       [110, 138,  65],\n",
       "       [110, 138,  66],\n",
       "       [111, 137,  65]])"
      ]
     },
     "execution_count": 19,
     "metadata": {},
     "output_type": "execute_result"
    }
   ],
   "source": [
    "np.argwhere(data_seg!=0)"
   ]
  },
  {
   "cell_type": "markdown",
   "metadata": {},
   "source": [
    "### True tumored coordinates on flattened data"
   ]
  },
  {
   "cell_type": "code",
   "execution_count": 20,
   "metadata": {},
   "outputs": [],
   "source": [
    "y_coors = np.argwhere(data_seg.flatten()!=0)"
   ]
  },
  {
   "cell_type": "markdown",
   "metadata": {},
   "source": [
    "### Size of tumor and non-tumor tissue"
   ]
  },
  {
   "cell_type": "code",
   "execution_count": 21,
   "metadata": {},
   "outputs": [
    {
     "data": {
      "text/plain": [
       "43342"
      ]
     },
     "execution_count": 21,
     "metadata": {},
     "output_type": "execute_result"
    }
   ],
   "source": [
    "tumor_size=len(y_coors)\n",
    "tumor_size"
   ]
  },
  {
   "cell_type": "code",
   "execution_count": 22,
   "metadata": {},
   "outputs": [
    {
     "data": {
      "text/plain": [
       "8884658"
      ]
     },
     "execution_count": 22,
     "metadata": {},
     "output_type": "execute_result"
    }
   ],
   "source": [
    "non_tumor_size = len(data_seg.flatten())-tumor_size\n",
    "non_tumor_size"
   ]
  },
  {
   "cell_type": "markdown",
   "metadata": {},
   "source": [
    "## Predicted tumor coordinates"
   ]
  },
  {
   "cell_type": "code",
   "execution_count": 24,
   "metadata": {},
   "outputs": [
    {
     "data": {
      "text/plain": [
       "36091"
      ]
     },
     "execution_count": 24,
     "metadata": {},
     "output_type": "execute_result"
    }
   ],
   "source": [
    "flair_yhat_coors = np.argwhere(flair_kmeans ==tumor_label)\n",
    "len(flair_yhat_coors)"
   ]
  },
  {
   "cell_type": "markdown",
   "metadata": {},
   "source": [
    "### True positive"
   ]
  },
  {
   "cell_type": "code",
   "execution_count": 25,
   "metadata": {},
   "outputs": [],
   "source": [
    "correct_id_tumor = np.intersect1d(y_coors, flair_yhat_coors, assume_unique=True)\n"
   ]
  },
  {
   "cell_type": "code",
   "execution_count": 26,
   "metadata": {},
   "outputs": [
    {
     "data": {
      "text/plain": [
       "0.6503391629366434"
      ]
     },
     "execution_count": 26,
     "metadata": {},
     "output_type": "execute_result"
    }
   ],
   "source": [
    "percent_tumor_correct = len(correct_id_tumor)/tumor_size\n",
    "percent_tumor_correct"
   ]
  },
  {
   "cell_type": "markdown",
   "metadata": {},
   "source": [
    "### False positive"
   ]
  },
  {
   "cell_type": "code",
   "execution_count": 27,
   "metadata": {},
   "outputs": [],
   "source": [
    "false_positive_points = np.setdiff1d(flair_yhat_coors, y_coors, assume_unique=True)"
   ]
  },
  {
   "cell_type": "code",
   "execution_count": 28,
   "metadata": {},
   "outputs": [
    {
     "data": {
      "text/plain": [
       "0.0008896234385161477"
      ]
     },
     "execution_count": 28,
     "metadata": {},
     "output_type": "execute_result"
    }
   ],
   "source": [
    "false_positive = len(false_positive_points)/non_tumor_size\n",
    "false_positive"
   ]
  },
  {
   "cell_type": "markdown",
   "metadata": {},
   "source": [
    "### False Negative"
   ]
  },
  {
   "cell_type": "code",
   "execution_count": 29,
   "metadata": {},
   "outputs": [],
   "source": [
    "false_neg_points = np.setdiff1d(y_coors, flair_yhat_coors, assume_unique=True)"
   ]
  },
  {
   "cell_type": "code",
   "execution_count": 30,
   "metadata": {},
   "outputs": [
    {
     "data": {
      "text/plain": [
       "0.34966083706335654"
      ]
     },
     "execution_count": 30,
     "metadata": {},
     "output_type": "execute_result"
    }
   ],
   "source": [
    "false_neg = len(false_neg_points)/tumor_size\n",
    "false_neg"
   ]
  },
  {
   "cell_type": "markdown",
   "metadata": {},
   "source": [
    "### True Negative"
   ]
  },
  {
   "cell_type": "code",
   "execution_count": 31,
   "metadata": {},
   "outputs": [
    {
     "data": {
      "text/plain": [
       "0.9991103765614838"
      ]
     },
     "execution_count": 31,
     "metadata": {},
     "output_type": "execute_result"
    }
   ],
   "source": [
    "true_negative=(len(data_seg.flatten())-(tumor_size+len(false_positive_points)))/non_tumor_size\n",
    "true_negative"
   ]
  },
  {
   "cell_type": "markdown",
   "metadata": {},
   "source": [
    "### Total misidentification"
   ]
  },
  {
   "cell_type": "code",
   "execution_count": 32,
   "metadata": {},
   "outputs": [],
   "source": [
    "total_incorrect_points = np.concatenate((false_neg_points, false_positive_points))"
   ]
  },
  {
   "cell_type": "code",
   "execution_count": 33,
   "metadata": {},
   "outputs": [
    {
     "data": {
      "text/plain": [
       "0.0025827732974910396"
      ]
     },
     "execution_count": 33,
     "metadata": {},
     "output_type": "execute_result"
    }
   ],
   "source": [
    "total_error = len(total_incorrect_points)/len(data_seg.flatten())\n",
    "total_error"
   ]
  },
  {
   "cell_type": "code",
   "execution_count": null,
   "metadata": {},
   "outputs": [],
   "source": []
  }
 ],
 "metadata": {
  "kernelspec": {
   "display_name": "Python 3",
   "language": "python",
   "name": "python3"
  },
  "language_info": {
   "codemirror_mode": {
    "name": "ipython",
    "version": 3
   },
   "file_extension": ".py",
   "mimetype": "text/x-python",
   "name": "python",
   "nbconvert_exporter": "python",
   "pygments_lexer": "ipython3",
   "version": "3.7.3"
  }
 },
 "nbformat": 4,
 "nbformat_minor": 2
}
