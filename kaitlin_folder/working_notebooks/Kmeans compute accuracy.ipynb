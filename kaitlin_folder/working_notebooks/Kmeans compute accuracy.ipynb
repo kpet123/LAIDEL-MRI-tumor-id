{
 "cells": [
  {
   "cell_type": "markdown",
   "metadata": {},
   "source": [
    "Compute accuracy metrics for Kmeans\n"
   ]
  },
  {
   "cell_type": "code",
   "execution_count": 2,
   "metadata": {},
   "outputs": [],
   "source": [
    "import numpy as np\n",
    "import matplotlib.pyplot as plt\n"
   ]
  },
  {
   "cell_type": "code",
   "execution_count": 3,
   "metadata": {},
   "outputs": [],
   "source": [
    "test_data = np.load(\"/N/project/laidel_el_mcv/LAIDEL-MRI-tumor-id/results/kmeans_classified/BraTS20_Training_346_classified.npy\", allow_pickle=True)\n"
   ]
  },
  {
   "cell_type": "code",
   "execution_count": 11,
   "metadata": {},
   "outputs": [
    {
     "data": {
      "text/plain": [
       "array([0., 2.], dtype=float32)"
      ]
     },
     "execution_count": 11,
     "metadata": {},
     "output_type": "execute_result"
    }
   ],
   "source": [
    "np.unique(test_data)"
   ]
  },
  {
   "cell_type": "code",
   "execution_count": 13,
   "metadata": {},
   "outputs": [
    {
     "data": {
      "text/plain": [
       "array([[189, 123,  55]])"
      ]
     },
     "execution_count": 13,
     "metadata": {},
     "output_type": "execute_result"
    }
   ],
   "source": [
    "np.argwhere(test_data==2)"
   ]
  },
  {
   "cell_type": "code",
   "execution_count": 10,
   "metadata": {},
   "outputs": [
    {
     "data": {
      "text/plain": [
       "<matplotlib.image.AxesImage at 0x7f3048188198>"
      ]
     },
     "execution_count": 10,
     "metadata": {},
     "output_type": "execute_result"
    },
    {
     "data": {
      "image/png": "[encoded data removed]",
      "text/plain": [
       "<Figure size 432x288 with 1 Axes>"
      ]
     },
     "metadata": {
      "needs_background": "light"
     },
     "output_type": "display_data"
    }
   ],
   "source": [
    "plt.figure()\n",
    "plt.imshow(test_data[:,:,130])"
   ]
  },
  {
   "cell_type": "code",
   "execution_count": null,
   "metadata": {},
   "outputs": [],
   "source": []
  },
  {
   "cell_type": "code",
   "execution_count": 27,
   "metadata": {},
   "outputs": [
    {
     "data": {
      "text/plain": [
       "{'names': array(['BraTS20_Training_330', 'BraTS20_Training_165',\n",
       "        'BraTS20_Training_149', 'BraTS20_Training_254',\n",
       "        'BraTS20_Training_011', 'BraTS20_Training_160',\n",
       "        'BraTS20_Training_301', 'BraTS20_Training_346',\n",
       "        'BraTS20_Training_038', 'BraTS20_Training_283',\n",
       "        'BraTS20_Training_016', 'BraTS20_Training_333',\n",
       "        'BraTS20_Training_357', 'BraTS20_Training_171',\n",
       "        'BraTS20_Training_185', 'BraTS20_Training_042',\n",
       "        'BraTS20_Training_241', 'BraTS20_Training_277',\n",
       "        'BraTS20_Training_093', 'BraTS20_Training_329',\n",
       "        'BraTS20_Training_135', 'BraTS20_Training_316',\n",
       "        'BraTS20_Training_240', 'BraTS20_Training_064',\n",
       "        'BraTS20_Training_140', 'BraTS20_Training_250',\n",
       "        'BraTS20_Training_027', 'BraTS20_Training_238',\n",
       "        'BraTS20_Training_192', 'BraTS20_Training_175',\n",
       "        'BraTS20_Training_163', 'BraTS20_Training_276',\n",
       "        'BraTS20_Training_109', 'BraTS20_Training_335',\n",
       "        'BraTS20_Training_363', 'BraTS20_Training_066',\n",
       "        'BraTS20_Training_214', 'BraTS20_Training_098',\n",
       "        'BraTS20_Training_047', 'BraTS20_Training_164',\n",
       "        'BraTS20_Training_170', 'BraTS20_Training_080',\n",
       "        'BraTS20_Training_275', 'BraTS20_Training_361',\n",
       "        'BraTS20_Training_243', 'BraTS20_Training_358',\n",
       "        'BraTS20_Training_325', 'BraTS20_Training_116',\n",
       "        'BraTS20_Training_086', 'BraTS20_Training_321',\n",
       "        'BraTS20_Training_128', 'BraTS20_Training_009',\n",
       "        'BraTS20_Training_055', 'BraTS20_Training_161',\n",
       "        'BraTS20_Training_122', 'BraTS20_Training_350',\n",
       "        'BraTS20_Training_065', 'BraTS20_Training_043',\n",
       "        'BraTS20_Training_013', 'BraTS20_Training_168',\n",
       "        'BraTS20_Training_095', 'BraTS20_Training_074',\n",
       "        'BraTS20_Training_123', 'BraTS20_Training_225',\n",
       "        'BraTS20_Training_188', 'BraTS20_Training_125',\n",
       "        'BraTS20_Training_046', 'BraTS20_Training_041',\n",
       "        'BraTS20_Training_356', 'BraTS20_Training_271',\n",
       "        'BraTS20_Training_334', 'BraTS20_Training_034',\n",
       "        'BraTS20_Training_348', 'BraTS20_Training_199',\n",
       "        'BraTS20_Training_150', 'BraTS20_Training_162',\n",
       "        'BraTS20_Training_210', 'BraTS20_Training_237',\n",
       "        'BraTS20_Training_216', 'BraTS20_Training_114',\n",
       "        'BraTS20_Training_152', 'BraTS20_Training_113',\n",
       "        'BraTS20_Training_017', 'BraTS20_Training_366',\n",
       "        'BraTS20_Training_187', 'BraTS20_Training_312',\n",
       "        'BraTS20_Training_205', 'BraTS20_Training_191',\n",
       "        'BraTS20_Training_057', 'BraTS20_Training_154',\n",
       "        'BraTS20_Training_006', 'BraTS20_Training_353',\n",
       "        'BraTS20_Training_228', 'BraTS20_Training_073',\n",
       "        'BraTS20_Training_158', 'BraTS20_Training_193',\n",
       "        'BraTS20_Training_266', 'BraTS20_Training_059',\n",
       "        'BraTS20_Training_365', 'BraTS20_Training_289',\n",
       "        'BraTS20_Training_367', 'BraTS20_Training_307',\n",
       "        'BraTS20_Training_338', 'BraTS20_Training_084',\n",
       "        'BraTS20_Training_351', 'BraTS20_Training_018',\n",
       "        'BraTS20_Training_129', 'BraTS20_Training_327',\n",
       "        'BraTS20_Training_097', 'BraTS20_Training_251',\n",
       "        'BraTS20_Training_203', 'BraTS20_Training_264',\n",
       "        'BraTS20_Training_035', 'BraTS20_Training_253',\n",
       "        'BraTS20_Training_179', 'BraTS20_Training_068',\n",
       "        'BraTS20_Training_108', 'BraTS20_Training_229',\n",
       "        'BraTS20_Training_157', 'BraTS20_Training_091',\n",
       "        'BraTS20_Training_328', 'BraTS20_Training_131',\n",
       "        'BraTS20_Training_258', 'BraTS20_Training_015',\n",
       "        'BraTS20_Training_236', 'BraTS20_Training_213',\n",
       "        'BraTS20_Training_031', 'BraTS20_Training_148',\n",
       "        'BraTS20_Training_306', 'BraTS20_Training_231',\n",
       "        'BraTS20_Training_272', 'BraTS20_Training_105',\n",
       "        'BraTS20_Training_297', 'BraTS20_Training_167',\n",
       "        'BraTS20_Training_352', 'BraTS20_Training_134',\n",
       "        'BraTS20_Training_280', 'BraTS20_Training_020',\n",
       "        'BraTS20_Training_069', 'BraTS20_Training_132',\n",
       "        'BraTS20_Training_120', 'BraTS20_Training_314',\n",
       "        'BraTS20_Training_299', 'BraTS20_Training_186',\n",
       "        'BraTS20_Training_303', 'BraTS20_Training_222',\n",
       "        'BraTS20_Training_298', 'BraTS20_Training_078',\n",
       "        'BraTS20_Training_290', 'BraTS20_Training_076',\n",
       "        'BraTS20_Training_075', 'BraTS20_Training_242',\n",
       "        'BraTS20_Training_039', 'BraTS20_Training_089',\n",
       "        'BraTS20_Training_260', 'BraTS20_Training_002',\n",
       "        'BraTS20_Training_308', 'BraTS20_Training_224',\n",
       "        'BraTS20_Training_219', 'BraTS20_Training_121',\n",
       "        'BraTS20_Training_293', 'BraTS20_Training_221',\n",
       "        'BraTS20_Training_146', 'BraTS20_Training_310',\n",
       "        'BraTS20_Training_045', 'BraTS20_Training_026',\n",
       "        'BraTS20_Training_302', 'BraTS20_Training_239',\n",
       "        'BraTS20_Training_252', 'BraTS20_Training_201',\n",
       "        'BraTS20_Training_079', 'BraTS20_Training_233',\n",
       "        'BraTS20_Training_151', 'BraTS20_Training_284',\n",
       "        'BraTS20_Training_044', 'BraTS20_Training_094',\n",
       "        'BraTS20_Training_337', 'BraTS20_Training_223',\n",
       "        'BraTS20_Training_050', 'BraTS20_Training_234',\n",
       "        'BraTS20_Training_202', 'BraTS20_Training_104',\n",
       "        'BraTS20_Training_286', 'BraTS20_Training_212',\n",
       "        'BraTS20_Training_262', 'BraTS20_Training_340',\n",
       "        'BraTS20_Training_267', 'BraTS20_Training_115',\n",
       "        'BraTS20_Training_052', 'BraTS20_Training_118',\n",
       "        'BraTS20_Training_198', 'BraTS20_Training_127',\n",
       "        'BraTS20_Training_324', 'BraTS20_Training_183',\n",
       "        'BraTS20_Training_022', 'BraTS20_Training_054',\n",
       "        'BraTS20_Training_265', 'BraTS20_Training_309',\n",
       "        'BraTS20_Training_124', 'BraTS20_Training_110',\n",
       "        'BraTS20_Training_220', 'BraTS20_Training_313',\n",
       "        'BraTS20_Training_136', 'BraTS20_Training_181',\n",
       "        'BraTS20_Training_111', 'BraTS20_Training_048',\n",
       "        'BraTS20_Training_159', 'BraTS20_Training_102',\n",
       "        'BraTS20_Training_096', 'BraTS20_Training_349',\n",
       "        'BraTS20_Training_319', 'BraTS20_Training_023',\n",
       "        'BraTS20_Training_040', 'BraTS20_Training_211',\n",
       "        'BraTS20_Training_194', 'BraTS20_Training_092',\n",
       "        'BraTS20_Training_056', 'BraTS20_Training_204',\n",
       "        'BraTS20_Training_139', 'BraTS20_Training_053',\n",
       "        'BraTS20_Training_028', 'BraTS20_Training_103',\n",
       "        'BraTS20_Training_067', 'BraTS20_Training_245',\n",
       "        'BraTS20_Training_362', 'BraTS20_Training_172',\n",
       "        'BraTS20_Training_051', 'BraTS20_Training_101',\n",
       "        'BraTS20_Training_317', 'BraTS20_Training_005',\n",
       "        'BraTS20_Training_001', 'BraTS20_Training_269',\n",
       "        'BraTS20_Training_342', 'BraTS20_Training_083',\n",
       "        'BraTS20_Training_368', 'BraTS20_Training_217',\n",
       "        'BraTS20_Training_061', 'BraTS20_Training_072',\n",
       "        'BraTS20_Training_087', 'BraTS20_Training_249',\n",
       "        'BraTS20_Training_197', 'BraTS20_Training_208',\n",
       "        'BraTS20_Training_304', 'BraTS20_Training_062',\n",
       "        'BraTS20_Training_145', 'BraTS20_Training_207',\n",
       "        'BraTS20_Training_182', 'BraTS20_Training_295',\n",
       "        'BraTS20_Training_142', 'BraTS20_Training_195',\n",
       "        'BraTS20_Training_099', 'BraTS20_Training_282',\n",
       "        'BraTS20_Training_107', 'BraTS20_Training_032',\n",
       "        'BraTS20_Training_336', 'BraTS20_Training_119',\n",
       "        'BraTS20_Training_255', 'BraTS20_Training_085',\n",
       "        'BraTS20_Training_196', 'BraTS20_Training_322',\n",
       "        'BraTS20_Training_106', 'BraTS20_Training_344',\n",
       "        'BraTS20_Training_281', 'BraTS20_Training_311',\n",
       "        'BraTS20_Training_029', 'BraTS20_Training_263',\n",
       "        'BraTS20_Training_033', 'BraTS20_Training_138',\n",
       "        'BraTS20_Training_126', 'BraTS20_Training_259',\n",
       "        'BraTS20_Training_355', 'BraTS20_Training_273',\n",
       "        'BraTS20_Training_049', 'BraTS20_Training_174',\n",
       "        'BraTS20_Training_320', 'BraTS20_Training_082',\n",
       "        'BraTS20_Training_246', 'BraTS20_Training_285',\n",
       "        'BraTS20_Training_019', 'BraTS20_Training_137',\n",
       "        'BraTS20_Training_184', 'BraTS20_Training_003',\n",
       "        'BraTS20_Training_268', 'BraTS20_Training_112',\n",
       "        'BraTS20_Training_037', 'BraTS20_Training_169',\n",
       "        'BraTS20_Training_323', 'BraTS20_Training_177',\n",
       "        'BraTS20_Training_063', 'BraTS20_Training_147',\n",
       "        'BraTS20_Training_227', 'BraTS20_Training_190',\n",
       "        'BraTS20_Training_343', 'BraTS20_Training_230',\n",
       "        'BraTS20_Training_143', 'BraTS20_Training_010',\n",
       "        'BraTS20_Training_274', 'BraTS20_Training_070',\n",
       "        'BraTS20_Training_036', 'BraTS20_Training_071',\n",
       "        'BraTS20_Training_261', 'BraTS20_Training_341',\n",
       "        'BraTS20_Training_318', 'BraTS20_Training_060',\n",
       "        'BraTS20_Training_256', 'BraTS20_Training_345',\n",
       "        'BraTS20_Training_176', 'BraTS20_Training_332',\n",
       "        'BraTS20_Training_144', 'BraTS20_Training_025',\n",
       "        'BraTS20_Training_360', 'BraTS20_Training_058',\n",
       "        'BraTS20_Training_081', 'BraTS20_Training_024',\n",
       "        'BraTS20_Training_004', 'BraTS20_Training_235',\n",
       "        'BraTS20_Training_294', 'BraTS20_Training_141',\n",
       "        'BraTS20_Training_008', 'BraTS20_Training_189',\n",
       "        'BraTS20_Training_030', 'BraTS20_Training_077',\n",
       "        'BraTS20_Training_369', 'BraTS20_Training_215',\n",
       "        'BraTS20_Training_153', 'BraTS20_Training_292',\n",
       "        'BraTS20_Training_247', 'BraTS20_Training_257',\n",
       "        'BraTS20_Training_156', 'BraTS20_Training_209',\n",
       "        'BraTS20_Training_300', 'BraTS20_Training_339',\n",
       "        'BraTS20_Training_012', 'BraTS20_Training_287',\n",
       "        'BraTS20_Training_244', 'BraTS20_Training_305',\n",
       "        'BraTS20_Training_178', 'BraTS20_Training_278',\n",
       "        'BraTS20_Training_206', 'BraTS20_Training_315',\n",
       "        'BraTS20_Training_226', 'BraTS20_Training_326',\n",
       "        'BraTS20_Training_200', 'BraTS20_Training_166',\n",
       "        'BraTS20_Training_100', 'BraTS20_Training_130',\n",
       "        'BraTS20_Training_007', 'BraTS20_Training_291',\n",
       "        'BraTS20_Training_173', 'BraTS20_Training_232',\n",
       "        'BraTS20_Training_014', 'BraTS20_Training_155',\n",
       "        'BraTS20_Training_218', 'BraTS20_Training_088',\n",
       "        'BraTS20_Training_364', 'BraTS20_Training_090',\n",
       "        'BraTS20_Training_296', 'BraTS20_Training_359',\n",
       "        'BraTS20_Training_117', 'BraTS20_Training_133',\n",
       "        'BraTS20_Training_331', 'BraTS20_Training_354',\n",
       "        'BraTS20_Training_270', 'BraTS20_Training_180',\n",
       "        'BraTS20_Training_248', 'BraTS20_Training_288',\n",
       "        'BraTS20_Training_279', 'BraTS20_Training_347',\n",
       "        'BraTS20_Training_021'], dtype='<U20'),\n",
       " 'cluster_metrics': array([[[5.64766867e-01, 7.15038814e+00],\n",
       "         [3.32768082e+02, 3.41885954e+01],\n",
       "         [5.58598785e+02, 7.04310572e+01],\n",
       "         [2.46818310e+02, 3.72247502e+01]],\n",
       " \n",
       "        [[3.71422191e-01, 3.98121025e+00],\n",
       "         [1.66040910e+02, 1.92832540e+01],\n",
       "         [2.90708827e+02, 4.03876144e+01],\n",
       "         [1.21415456e+02, 2.02008152e+01]],\n",
       " \n",
       "        [[5.80095854e-01, 5.06352401e+00],\n",
       "         [2.19715733e+02, 2.12135383e+01],\n",
       "         [2.93220928e+02, 3.31256236e+01],\n",
       "         [1.34149333e+02, 3.25696428e+01]],\n",
       " \n",
       "        ...,\n",
       " \n",
       "        [[2.73320391e-01, 6.02902349e+00],\n",
       "         [4.65842303e+02, 3.88109614e+01],\n",
       "         [3.34050692e+02, 6.20882210e+01],\n",
       "         [6.06722852e+02, 6.88806618e+01]],\n",
       " \n",
       "        [[4.98901606e-01, 1.17228622e+01],\n",
       "         [1.57506409e+03, 1.50556442e+02],\n",
       "         [1.09254761e+03, 1.01509964e+02],\n",
       "         [6.91223572e+02, 1.53416855e+02]],\n",
       " \n",
       "        [[2.01494279e-01, 3.28743053e+00],\n",
       "         [1.91153414e+02, 1.63329443e+01],\n",
       "         [1.40786265e+02, 2.18383572e+01],\n",
       "         [2.58039658e+02, 4.08487701e+01]]]),\n",
       " 'performance': array([[8.04363636e-01, 1.95636364e-01, 9.99070920e-01, 9.29079513e-04,\n",
       "         2.09856631e-03],\n",
       "        [8.14766380e-01, 1.85233620e-01, 9.98599993e-01, 1.40000713e-03,\n",
       "         4.36010305e-03],\n",
       "        [7.96955718e-01, 2.03044282e-01, 9.83868414e-01, 1.61315862e-02,\n",
       "         2.15094086e-02],\n",
       "        ...,\n",
       "        [5.09425149e-01, 4.90574851e-01, 9.66666047e-01, 3.33339532e-02,\n",
       "         4.16666667e-02],\n",
       "        [8.16815095e-01, 1.83184905e-01, 9.96815135e-01, 3.18486509e-03,\n",
       "         5.43514785e-03],\n",
       "        [8.71778176e-01, 1.28221824e-01, 9.83682524e-01, 1.63174764e-02,\n",
       "         1.67794579e-02]])}"
      ]
     },
     "execution_count": 27,
     "metadata": {},
     "output_type": "execute_result"
    }
   ],
   "source": [
    "res = np.load(\"/N/project/laidel_el_mcv/LAIDEL-MRI-tumor-id/results/kmeans_aggregate.npz\", allow_pickle=True)\n",
    "dict(res)"
   ]
  },
  {
   "cell_type": "code",
   "execution_count": 28,
   "metadata": {},
   "outputs": [],
   "source": [
    "data_ref = res['names']\n",
    "cluster_metrics = res['cluster_metrics']\n",
    "performance = res['performance']"
   ]
  },
  {
   "cell_type": "code",
   "execution_count": 29,
   "metadata": {},
   "outputs": [
    {
     "data": {
      "text/plain": [
       "369"
      ]
     },
     "execution_count": 29,
     "metadata": {},
     "output_type": "execute_result"
    }
   ],
   "source": [
    "len(data_ref)"
   ]
  },
  {
   "cell_type": "code",
   "execution_count": 30,
   "metadata": {},
   "outputs": [
    {
     "data": {
      "text/plain": [
       "array([0.78731482, 0.21268518, 0.9849746 , 0.0150254 , 0.01759811])"
      ]
     },
     "execution_count": 30,
     "metadata": {},
     "output_type": "execute_result"
    }
   ],
   "source": [
    "np.average(performance, axis=0)"
   ]
  },
  {
   "cell_type": "code",
   "execution_count": 31,
   "metadata": {},
   "outputs": [
    {
     "data": {
      "text/html": [
       "<div>\n",
       "<style scoped>\n",
       "    .dataframe tbody tr th:only-of-type {\n",
       "        vertical-align: middle;\n",
       "    }\n",
       "\n",
       "    .dataframe tbody tr th {\n",
       "        vertical-align: top;\n",
       "    }\n",
       "\n",
       "    .dataframe thead th {\n",
       "        text-align: right;\n",
       "    }\n",
       "</style>\n",
       "<table border=\"1\" class=\"dataframe\">\n",
       "  <thead>\n",
       "    <tr style=\"text-align: right;\">\n",
       "      <th></th>\n",
       "      <th>TP</th>\n",
       "      <th>FN</th>\n",
       "      <th>TN</th>\n",
       "      <th>FP</th>\n",
       "      <th>Overall error</th>\n",
       "    </tr>\n",
       "  </thead>\n",
       "  <tbody>\n",
       "    <tr>\n",
       "      <th>0</th>\n",
       "      <td>0.787315</td>\n",
       "      <td>0.212685</td>\n",
       "      <td>0.984975</td>\n",
       "      <td>0.015025</td>\n",
       "      <td>0.017598</td>\n",
       "    </tr>\n",
       "  </tbody>\n",
       "</table>\n",
       "</div>"
      ],
      "text/plain": [
       "         TP        FN        TN        FP  Overall error\n",
       "0  0.787315  0.212685  0.984975  0.015025       0.017598"
      ]
     },
     "execution_count": 31,
     "metadata": {},
     "output_type": "execute_result"
    }
   ],
   "source": [
    "import pandas as pd\n",
    "\n",
    "pd.DataFrame(np.average(performance, axis=0)[np.newaxis,:], columns = [\"TP\", \"FN\", \"TN\" , \"FP\", \"Overall error\"])"
   ]
  },
  {
   "cell_type": "code",
   "execution_count": null,
   "metadata": {},
   "outputs": [],
   "source": []
  },
  {
   "cell_type": "code",
   "execution_count": 32,
   "metadata": {},
   "outputs": [
    {
     "data": {
      "text/plain": [
       "array([0.16951252, 0.16951252, 0.01878328, 0.01878328, 0.01773199])"
      ]
     },
     "execution_count": 32,
     "metadata": {},
     "output_type": "execute_result"
    }
   ],
   "source": [
    "np.std(performance, axis=0)"
   ]
  },
  {
   "cell_type": "code",
   "execution_count": null,
   "metadata": {},
   "outputs": [],
   "source": []
  },
  {
   "cell_type": "code",
   "execution_count": null,
   "metadata": {},
   "outputs": [],
   "source": []
  }
 ],
 "metadata": {
  "kernelspec": {
   "display_name": "Python 3",
   "language": "python",
   "name": "python3"
  },
  "language_info": {
   "codemirror_mode": {
    "name": "ipython",
    "version": 3
   },
   "file_extension": ".py",
   "mimetype": "text/x-python",
   "name": "python",
   "nbconvert_exporter": "python",
   "pygments_lexer": "ipython3",
   "version": "3.7.3"
  }
 },
 "nbformat": 4,
 "nbformat_minor": 2
}
